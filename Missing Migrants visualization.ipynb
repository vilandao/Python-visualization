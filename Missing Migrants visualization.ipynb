{
 "cells": [
  {
   "cell_type": "code",
   "execution_count": 2,
   "metadata": {},
   "outputs": [],
   "source": [
    "## Import pandas, numpy, matplotlib and seaborn"
   ]
  },
  {
   "cell_type": "code",
   "execution_count": 3,
   "metadata": {},
   "outputs": [],
   "source": [
    "import pandas as pd\n",
    "import numpy as np\n",
    "import matplotlib.pyplot as plt\n",
    "import seaborn as sns\n",
    "%matplotlib inline"
   ]
  },
  {
   "cell_type": "code",
   "execution_count": 4,
   "metadata": {},
   "outputs": [],
   "source": [
    "# Import the data set 'MissingMigrants-Global-2019-03-29T18-36-07.csv'"
   ]
  },
  {
   "cell_type": "code",
   "execution_count": 5,
   "metadata": {},
   "outputs": [
    {
     "data": {
      "text/html": [
       "<div>\n",
       "<style scoped>\n",
       "    .dataframe tbody tr th:only-of-type {\n",
       "        vertical-align: middle;\n",
       "    }\n",
       "\n",
       "    .dataframe tbody tr th {\n",
       "        vertical-align: top;\n",
       "    }\n",
       "\n",
       "    .dataframe thead th {\n",
       "        text-align: right;\n",
       "    }\n",
       "</style>\n",
       "<table border=\"1\" class=\"dataframe\">\n",
       "  <thead>\n",
       "    <tr style=\"text-align: right;\">\n",
       "      <th></th>\n",
       "      <th>Region of Incident</th>\n",
       "      <th>Reported Date</th>\n",
       "      <th>Reported Year</th>\n",
       "      <th>Reported Month</th>\n",
       "      <th>Number Dead</th>\n",
       "      <th>Minimum Estimated Number of Missing</th>\n",
       "      <th>Total Dead and Missing</th>\n",
       "      <th>Number of Survivors</th>\n",
       "      <th>Number of Females</th>\n",
       "      <th>Number of Males</th>\n",
       "      <th>Number of Children</th>\n",
       "      <th>Cause of Death</th>\n",
       "      <th>Location Description</th>\n",
       "      <th>Information Source</th>\n",
       "      <th>Location Coordinates</th>\n",
       "      <th>Migration Route</th>\n",
       "      <th>URL</th>\n",
       "      <th>UNSD Geographical Grouping</th>\n",
       "      <th>Source Quality</th>\n",
       "    </tr>\n",
       "    <tr>\n",
       "      <th>Web ID</th>\n",
       "      <th></th>\n",
       "      <th></th>\n",
       "      <th></th>\n",
       "      <th></th>\n",
       "      <th></th>\n",
       "      <th></th>\n",
       "      <th></th>\n",
       "      <th></th>\n",
       "      <th></th>\n",
       "      <th></th>\n",
       "      <th></th>\n",
       "      <th></th>\n",
       "      <th></th>\n",
       "      <th></th>\n",
       "      <th></th>\n",
       "      <th></th>\n",
       "      <th></th>\n",
       "      <th></th>\n",
       "      <th></th>\n",
       "    </tr>\n",
       "  </thead>\n",
       "  <tbody>\n",
       "    <tr>\n",
       "      <th>51591</th>\n",
       "      <td>Mediterranean</td>\n",
       "      <td>March 28, 2019</td>\n",
       "      <td>2019</td>\n",
       "      <td>Mar</td>\n",
       "      <td>0.0</td>\n",
       "      <td>2.0</td>\n",
       "      <td>2</td>\n",
       "      <td>36.0</td>\n",
       "      <td>0.0</td>\n",
       "      <td>2.0</td>\n",
       "      <td>0.0</td>\n",
       "      <td>Presumed drowning</td>\n",
       "      <td>Off the coast of Chios, Greece</td>\n",
       "      <td>Hellenic Coast Guard via IOM Greece</td>\n",
       "      <td>38.362368696592, 26.172509473654</td>\n",
       "      <td>Eastern Mediterranean</td>\n",
       "      <td>0</td>\n",
       "      <td>Uncategorized</td>\n",
       "      <td>5</td>\n",
       "    </tr>\n",
       "    <tr>\n",
       "      <th>51588</th>\n",
       "      <td>Mediterranean</td>\n",
       "      <td>March 26, 2019</td>\n",
       "      <td>2019</td>\n",
       "      <td>Mar</td>\n",
       "      <td>4.0</td>\n",
       "      <td>0.0</td>\n",
       "      <td>4</td>\n",
       "      <td>11.0</td>\n",
       "      <td>3.0</td>\n",
       "      <td>0.0</td>\n",
       "      <td>1.0</td>\n",
       "      <td>Presumed drowning</td>\n",
       "      <td>Off the coast of Ayvacık district, Çanakkale p...</td>\n",
       "      <td>Turkish Coast Guard via IOM Turkey</td>\n",
       "      <td>39.441975591614, 26.378816195919</td>\n",
       "      <td>Eastern Mediterranean</td>\n",
       "      <td>http://bit.ly/2YmiPAN</td>\n",
       "      <td>Uncategorized</td>\n",
       "      <td>5</td>\n",
       "    </tr>\n",
       "    <tr>\n",
       "      <th>51589</th>\n",
       "      <td>Mediterranean</td>\n",
       "      <td>March 26, 2019</td>\n",
       "      <td>2019</td>\n",
       "      <td>Mar</td>\n",
       "      <td>1.0</td>\n",
       "      <td>0.0</td>\n",
       "      <td>1</td>\n",
       "      <td>0.0</td>\n",
       "      <td>0.0</td>\n",
       "      <td>0.0</td>\n",
       "      <td>0.0</td>\n",
       "      <td>Presumed drowning</td>\n",
       "      <td>Body recovered on Playa del Tarajal, Ceuta, Sp...</td>\n",
       "      <td>Ceuta al día, El Pueblo de Ceuta</td>\n",
       "      <td>35.871901875921, -5.343037665842</td>\n",
       "      <td>Western Mediterranean</td>\n",
       "      <td>http://bit.ly/2uyj7qO, http://bit.ly/2uwj5zC</td>\n",
       "      <td>Uncategorized</td>\n",
       "      <td>3</td>\n",
       "    </tr>\n",
       "    <tr>\n",
       "      <th>51590</th>\n",
       "      <td>Mediterranean</td>\n",
       "      <td>March 26, 2019</td>\n",
       "      <td>2019</td>\n",
       "      <td>Mar</td>\n",
       "      <td>1.0</td>\n",
       "      <td>0.0</td>\n",
       "      <td>1</td>\n",
       "      <td>0.0</td>\n",
       "      <td>0.0</td>\n",
       "      <td>0.0</td>\n",
       "      <td>0.0</td>\n",
       "      <td>Presumed drowning</td>\n",
       "      <td>Body recovered on beach near Tetouan, Morocco ...</td>\n",
       "      <td>El Pueblo de Ceuta</td>\n",
       "      <td>35.635115912988, -5.275650103548</td>\n",
       "      <td>Western Mediterranean</td>\n",
       "      <td>http://bit.ly/2uwj5zC</td>\n",
       "      <td>Uncategorized</td>\n",
       "      <td>1</td>\n",
       "    </tr>\n",
       "    <tr>\n",
       "      <th>51587</th>\n",
       "      <td>Central America</td>\n",
       "      <td>March 25, 2019</td>\n",
       "      <td>2019</td>\n",
       "      <td>Mar</td>\n",
       "      <td>1.0</td>\n",
       "      <td>0.0</td>\n",
       "      <td>1</td>\n",
       "      <td>0.0</td>\n",
       "      <td>0.0</td>\n",
       "      <td>1.0</td>\n",
       "      <td>0.0</td>\n",
       "      <td>Fall from train</td>\n",
       "      <td>Train tracks in Teacalco, Tlaxcala, Mexico</td>\n",
       "      <td>Megalópolis, Línea de contraste</td>\n",
       "      <td>19.334475177429, -98.069823987538</td>\n",
       "      <td>0</td>\n",
       "      <td>http://bit.ly/2uvDIvH, http://bit.ly/2TXAFLS</td>\n",
       "      <td>Central America</td>\n",
       "      <td>3</td>\n",
       "    </tr>\n",
       "  </tbody>\n",
       "</table>\n",
       "</div>"
      ],
      "text/plain": [
       "       Region of Incident   Reported Date  Reported Year Reported Month  \\\n",
       "Web ID                                                                    \n",
       "51591       Mediterranean  March 28, 2019           2019            Mar   \n",
       "51588       Mediterranean  March 26, 2019           2019            Mar   \n",
       "51589       Mediterranean  March 26, 2019           2019            Mar   \n",
       "51590       Mediterranean  March 26, 2019           2019            Mar   \n",
       "51587     Central America  March 25, 2019           2019            Mar   \n",
       "\n",
       "        Number Dead  Minimum Estimated Number of Missing  \\\n",
       "Web ID                                                     \n",
       "51591           0.0                                  2.0   \n",
       "51588           4.0                                  0.0   \n",
       "51589           1.0                                  0.0   \n",
       "51590           1.0                                  0.0   \n",
       "51587           1.0                                  0.0   \n",
       "\n",
       "        Total Dead and Missing  Number of Survivors  Number of Females  \\\n",
       "Web ID                                                                   \n",
       "51591                        2                 36.0                0.0   \n",
       "51588                        4                 11.0                3.0   \n",
       "51589                        1                  0.0                0.0   \n",
       "51590                        1                  0.0                0.0   \n",
       "51587                        1                  0.0                0.0   \n",
       "\n",
       "        Number of Males  Number of Children     Cause of Death  \\\n",
       "Web ID                                                           \n",
       "51591               2.0                 0.0  Presumed drowning   \n",
       "51588               0.0                 1.0  Presumed drowning   \n",
       "51589               0.0                 0.0  Presumed drowning   \n",
       "51590               0.0                 0.0  Presumed drowning   \n",
       "51587               1.0                 0.0    Fall from train   \n",
       "\n",
       "                                     Location Description  \\\n",
       "Web ID                                                      \n",
       "51591                      Off the coast of Chios, Greece   \n",
       "51588   Off the coast of Ayvacık district, Çanakkale p...   \n",
       "51589   Body recovered on Playa del Tarajal, Ceuta, Sp...   \n",
       "51590   Body recovered on beach near Tetouan, Morocco ...   \n",
       "51587          Train tracks in Teacalco, Tlaxcala, Mexico   \n",
       "\n",
       "                         Information Source  \\\n",
       "Web ID                                        \n",
       "51591   Hellenic Coast Guard via IOM Greece   \n",
       "51588    Turkish Coast Guard via IOM Turkey   \n",
       "51589      Ceuta al día, El Pueblo de Ceuta   \n",
       "51590                    El Pueblo de Ceuta   \n",
       "51587       Megalópolis, Línea de contraste   \n",
       "\n",
       "                     Location Coordinates        Migration Route  \\\n",
       "Web ID                                                             \n",
       "51591    38.362368696592, 26.172509473654  Eastern Mediterranean   \n",
       "51588    39.441975591614, 26.378816195919  Eastern Mediterranean   \n",
       "51589    35.871901875921, -5.343037665842  Western Mediterranean   \n",
       "51590    35.635115912988, -5.275650103548  Western Mediterranean   \n",
       "51587   19.334475177429, -98.069823987538                      0   \n",
       "\n",
       "                                                 URL  \\\n",
       "Web ID                                                 \n",
       "51591                                              0   \n",
       "51588                          http://bit.ly/2YmiPAN   \n",
       "51589   http://bit.ly/2uyj7qO, http://bit.ly/2uwj5zC   \n",
       "51590                          http://bit.ly/2uwj5zC   \n",
       "51587   http://bit.ly/2uvDIvH, http://bit.ly/2TXAFLS   \n",
       "\n",
       "       UNSD Geographical Grouping  Source Quality  \n",
       "Web ID                                             \n",
       "51591               Uncategorized               5  \n",
       "51588               Uncategorized               5  \n",
       "51589               Uncategorized               3  \n",
       "51590               Uncategorized               1  \n",
       "51587             Central America               3  "
      ]
     },
     "execution_count": 5,
     "metadata": {},
     "output_type": "execute_result"
    }
   ],
   "source": [
    "data = 'MissingMigrants-Global-2019-03-29T18-36-07.csv'\n",
    "df = pd.read_csv(data, index_col =0)\n",
    "df = df.fillna(0)\n",
    "df.head(5)"
   ]
  },
  {
   "cell_type": "code",
   "execution_count": 6,
   "metadata": {},
   "outputs": [],
   "source": [
    "## Conduct exploratory analysis on the data set df"
   ]
  },
  {
   "cell_type": "code",
   "execution_count": 7,
   "metadata": {
    "scrolled": true
   },
   "outputs": [
    {
     "name": "stdout",
     "output_type": "stream",
     "text": [
      "<class 'pandas.core.frame.DataFrame'>\n",
      "Int64Index: 5333 entries, 51591 to 39206\n",
      "Data columns (total 19 columns):\n",
      "Region of Incident                     5333 non-null object\n",
      "Reported Date                          5333 non-null object\n",
      "Reported Year                          5333 non-null int64\n",
      "Reported Month                         5333 non-null object\n",
      "Number Dead                            5333 non-null float64\n",
      "Minimum Estimated Number of Missing    5333 non-null float64\n",
      "Total Dead and Missing                 5333 non-null int64\n",
      "Number of Survivors                    5333 non-null float64\n",
      "Number of Females                      5333 non-null float64\n",
      "Number of Males                        5333 non-null float64\n",
      "Number of Children                     5333 non-null float64\n",
      "Cause of Death                         5333 non-null object\n",
      "Location Description                   5333 non-null object\n",
      "Information Source                     5333 non-null object\n",
      "Location Coordinates                   5333 non-null object\n",
      "Migration Route                        5333 non-null object\n",
      "URL                                    5333 non-null object\n",
      "UNSD Geographical Grouping             5333 non-null object\n",
      "Source Quality                         5333 non-null int64\n",
      "dtypes: float64(6), int64(3), object(10)\n",
      "memory usage: 833.3+ KB\n"
     ]
    }
   ],
   "source": [
    "df.info()"
   ]
  },
  {
   "cell_type": "code",
   "execution_count": 8,
   "metadata": {},
   "outputs": [],
   "source": [
    "## Dropping unnecessary columns to create df1"
   ]
  },
  {
   "cell_type": "code",
   "execution_count": 9,
   "metadata": {},
   "outputs": [
    {
     "data": {
      "text/html": [
       "<div>\n",
       "<style scoped>\n",
       "    .dataframe tbody tr th:only-of-type {\n",
       "        vertical-align: middle;\n",
       "    }\n",
       "\n",
       "    .dataframe tbody tr th {\n",
       "        vertical-align: top;\n",
       "    }\n",
       "\n",
       "    .dataframe thead th {\n",
       "        text-align: right;\n",
       "    }\n",
       "</style>\n",
       "<table border=\"1\" class=\"dataframe\">\n",
       "  <thead>\n",
       "    <tr style=\"text-align: right;\">\n",
       "      <th></th>\n",
       "      <th>Region of Incident</th>\n",
       "      <th>Reported Year</th>\n",
       "      <th>Reported Month</th>\n",
       "      <th>Total Dead and Missing</th>\n",
       "      <th>Number of Survivors</th>\n",
       "      <th>Cause of Death</th>\n",
       "      <th>Location Description</th>\n",
       "      <th>Migration Route</th>\n",
       "    </tr>\n",
       "    <tr>\n",
       "      <th>Web ID</th>\n",
       "      <th></th>\n",
       "      <th></th>\n",
       "      <th></th>\n",
       "      <th></th>\n",
       "      <th></th>\n",
       "      <th></th>\n",
       "      <th></th>\n",
       "      <th></th>\n",
       "    </tr>\n",
       "  </thead>\n",
       "  <tbody>\n",
       "    <tr>\n",
       "      <th>51591</th>\n",
       "      <td>Mediterranean</td>\n",
       "      <td>2019</td>\n",
       "      <td>Mar</td>\n",
       "      <td>2</td>\n",
       "      <td>36.0</td>\n",
       "      <td>Presumed drowning</td>\n",
       "      <td>Off the coast of Chios, Greece</td>\n",
       "      <td>Eastern Mediterranean</td>\n",
       "    </tr>\n",
       "    <tr>\n",
       "      <th>51588</th>\n",
       "      <td>Mediterranean</td>\n",
       "      <td>2019</td>\n",
       "      <td>Mar</td>\n",
       "      <td>4</td>\n",
       "      <td>11.0</td>\n",
       "      <td>Presumed drowning</td>\n",
       "      <td>Off the coast of Ayvacık district, Çanakkale p...</td>\n",
       "      <td>Eastern Mediterranean</td>\n",
       "    </tr>\n",
       "    <tr>\n",
       "      <th>51589</th>\n",
       "      <td>Mediterranean</td>\n",
       "      <td>2019</td>\n",
       "      <td>Mar</td>\n",
       "      <td>1</td>\n",
       "      <td>0.0</td>\n",
       "      <td>Presumed drowning</td>\n",
       "      <td>Body recovered on Playa del Tarajal, Ceuta, Sp...</td>\n",
       "      <td>Western Mediterranean</td>\n",
       "    </tr>\n",
       "    <tr>\n",
       "      <th>51590</th>\n",
       "      <td>Mediterranean</td>\n",
       "      <td>2019</td>\n",
       "      <td>Mar</td>\n",
       "      <td>1</td>\n",
       "      <td>0.0</td>\n",
       "      <td>Presumed drowning</td>\n",
       "      <td>Body recovered on beach near Tetouan, Morocco ...</td>\n",
       "      <td>Western Mediterranean</td>\n",
       "    </tr>\n",
       "    <tr>\n",
       "      <th>51587</th>\n",
       "      <td>Central America</td>\n",
       "      <td>2019</td>\n",
       "      <td>Mar</td>\n",
       "      <td>1</td>\n",
       "      <td>0.0</td>\n",
       "      <td>Fall from train</td>\n",
       "      <td>Train tracks in Teacalco, Tlaxcala, Mexico</td>\n",
       "      <td>0</td>\n",
       "    </tr>\n",
       "  </tbody>\n",
       "</table>\n",
       "</div>"
      ],
      "text/plain": [
       "       Region of Incident  Reported Year Reported Month  \\\n",
       "Web ID                                                    \n",
       "51591       Mediterranean           2019            Mar   \n",
       "51588       Mediterranean           2019            Mar   \n",
       "51589       Mediterranean           2019            Mar   \n",
       "51590       Mediterranean           2019            Mar   \n",
       "51587     Central America           2019            Mar   \n",
       "\n",
       "        Total Dead and Missing  Number of Survivors     Cause of Death  \\\n",
       "Web ID                                                                   \n",
       "51591                        2                 36.0  Presumed drowning   \n",
       "51588                        4                 11.0  Presumed drowning   \n",
       "51589                        1                  0.0  Presumed drowning   \n",
       "51590                        1                  0.0  Presumed drowning   \n",
       "51587                        1                  0.0    Fall from train   \n",
       "\n",
       "                                     Location Description  \\\n",
       "Web ID                                                      \n",
       "51591                      Off the coast of Chios, Greece   \n",
       "51588   Off the coast of Ayvacık district, Çanakkale p...   \n",
       "51589   Body recovered on Playa del Tarajal, Ceuta, Sp...   \n",
       "51590   Body recovered on beach near Tetouan, Morocco ...   \n",
       "51587          Train tracks in Teacalco, Tlaxcala, Mexico   \n",
       "\n",
       "              Migration Route  \n",
       "Web ID                         \n",
       "51591   Eastern Mediterranean  \n",
       "51588   Eastern Mediterranean  \n",
       "51589   Western Mediterranean  \n",
       "51590   Western Mediterranean  \n",
       "51587                       0  "
      ]
     },
     "execution_count": 9,
     "metadata": {},
     "output_type": "execute_result"
    }
   ],
   "source": [
    "df1 = df.drop(['Reported Date', \n",
    "               'Number Dead', \n",
    "               'Minimum Estimated Number of Missing', \n",
    "               'Information Source', \n",
    "               'Location Coordinates',\n",
    "               'URL',\n",
    "               'UNSD Geographical Grouping', \n",
    "               'Source Quality',\n",
    "               'Number of Females',\n",
    "               'Number of Males',\n",
    "               'Number of Children'], axis=1)\n",
    "df1.head(5)"
   ]
  },
  {
   "cell_type": "code",
   "execution_count": 49,
   "metadata": {
    "scrolled": true
   },
   "outputs": [
    {
     "data": {
      "text/plain": [
       "Reported Year\n",
       "2015    6584\n",
       "2016    8070\n",
       "2017    6279\n",
       "2018    4734\n",
       "Name: Total Dead and Missing, dtype: int64"
      ]
     },
     "execution_count": 49,
     "metadata": {},
     "output_type": "execute_result"
    }
   ],
   "source": [
    "df1.groupby('Reported Year')['Total Dead and Missing'].sum()"
   ]
  },
  {
   "cell_type": "code",
   "execution_count": 11,
   "metadata": {},
   "outputs": [],
   "source": [
    "## I'm interested in comparing data from 2015-2018, so I'll drop 2014 and 2019 data"
   ]
  },
  {
   "cell_type": "code",
   "execution_count": 40,
   "metadata": {},
   "outputs": [
    {
     "data": {
      "text/plain": [
       "Reported Year\n",
       "2015    6584\n",
       "2016    8070\n",
       "2017    6279\n",
       "2018    4734\n",
       "Name: Total Dead and Missing, dtype: int64"
      ]
     },
     "execution_count": 40,
     "metadata": {},
     "output_type": "execute_result"
    }
   ],
   "source": [
    "df1 = df1[df1['Reported Year'] != 2014]\n",
    "df1 = df1[df1['Reported Year'] != 2019]\n",
    "df2 = df1.groupby('Reported Year')['Total Dead and Missing'].sum()  \n",
    "df2"
   ]
  },
  {
   "cell_type": "code",
   "execution_count": 13,
   "metadata": {},
   "outputs": [],
   "source": [
    "## Plot1: Total number of dead and missing migrants between 2015 - 2018.\n",
    "### This plot shows the total number of Dead and Missing Immigrants from 2015 to 2018. \n",
    "### As we can see from the plot below, the number of dead and missing immigrants decreases over the year.\n",
    "### There was a peak between 2015 and 2016, but after that, the trend generally started to decrease."
   ]
  },
  {
   "cell_type": "code",
   "execution_count": 36,
   "metadata": {},
   "outputs": [
    {
     "data": {
      "image/png": "[encoded data removed]",
      "text/plain": [
       "<Figure size 576x360 with 1 Axes>"
      ]
     },
     "metadata": {},
     "output_type": "display_data"
    }
   ],
   "source": [
    "sns.set(style=\"darkgrid\")\n",
    "\n",
    "plt.figure(figsize=(8,5))\n",
    "plt.plot(df2, linewidth=3)\n",
    "plt.xticks([2015, 2016, 2017, 2018])\n",
    "plt.margins(x=0.0, y=0.1)\n",
    "plt.tight_layout()\n",
    "plt.xlabel('Year')\n",
    "plt.ylabel('Number of Dead & Missing')\n",
    "plt.title('Total Number of Dead & Missing Immigrants from 2015-2018')\n",
    "\n",
    "plt.show()"
   ]
  },
  {
   "cell_type": "code",
   "execution_count": 15,
   "metadata": {},
   "outputs": [],
   "source": [
    "## Plot2: Number of incidents by Region. \n",
    "### The second plot describes the number of Dead and Missing Migrants by different Regions. As we can see from \n",
    "### the bar chart, most incidents derived from migrants from the Mediterranean with 14,635 cases between 2015-2018.\n",
    "### North Africa came second with 3,909 cases and US-Mexico border came third with almost 1,600 incidents.  "
   ]
  },
  {
   "cell_type": "code",
   "execution_count": 54,
   "metadata": {
    "scrolled": true
   },
   "outputs": [
    {
     "data": {
      "text/plain": [
       "Region of Incident\n",
       "Caribbean               394\n",
       "Central America         460\n",
       "Central Asia             52\n",
       "East Asia                22\n",
       "Europe                  413\n",
       "Horn of Africa          817\n",
       "Mediterranean         14635\n",
       "Middle East             357\n",
       "North Africa           3909\n",
       "North America             1\n",
       "South America            65\n",
       "South Asia              284\n",
       "Southeast Asia         1379\n",
       "Sub-Saharan Africa     1281\n",
       "US-Mexico Border       1598\n",
       "Name: Total Dead and Missing, dtype: int64"
      ]
     },
     "execution_count": 54,
     "metadata": {},
     "output_type": "execute_result"
    }
   ],
   "source": [
    "df3 = df1.groupby('Region of Incident')['Total Dead and Missing'].sum()  \n",
    "df3"
   ]
  },
  {
   "cell_type": "code",
   "execution_count": 55,
   "metadata": {},
   "outputs": [
    {
     "data": {
      "image/png": "[encoded data removed]",
      "text/plain": [
       "<Figure size 720x432 with 1 Axes>"
      ]
     },
     "metadata": {},
     "output_type": "display_data"
    }
   ],
   "source": [
    "sns.set(style=\"whitegrid\")\n",
    "\n",
    "df3.plot(kind='bar', figsize=(10,6))\n",
    "plt.ylabel('Number of Dead & Missing')\n",
    "plt.title('Number of Dead & Missing Migrants by Region from 2015-2018')\n",
    "plt.margins(x=0.0, y=0.1, tight=True)\n",
    "plt.tight_layout()\n",
    "\n",
    "plt.show()"
   ]
  },
  {
   "cell_type": "code",
   "execution_count": 18,
   "metadata": {},
   "outputs": [],
   "source": [
    "## Plot3: Number of Dead & Missing Migrants by Males, Females and Chrildren\n",
    "### Plot 3 shows the number of Dead & Missing Migrants between 2015-2018 separated by M3 categories: males, females and chrildren\n",
    "### As we can see from the 3 charts, males represented the largest number of dead & missing migrants, followed by females and children\n",
    "### The general trend, however, increases significantly for all groups over the year."
   ]
  },
  {
   "cell_type": "code",
   "execution_count": 19,
   "metadata": {},
   "outputs": [
    {
     "data": {
      "text/html": [
       "<div>\n",
       "<style scoped>\n",
       "    .dataframe tbody tr th:only-of-type {\n",
       "        vertical-align: middle;\n",
       "    }\n",
       "\n",
       "    .dataframe tbody tr th {\n",
       "        vertical-align: top;\n",
       "    }\n",
       "\n",
       "    .dataframe thead th {\n",
       "        text-align: right;\n",
       "    }\n",
       "</style>\n",
       "<table border=\"1\" class=\"dataframe\">\n",
       "  <thead>\n",
       "    <tr style=\"text-align: right;\">\n",
       "      <th></th>\n",
       "      <th>Reported Year</th>\n",
       "      <th>Number of Males</th>\n",
       "      <th>Number of Females</th>\n",
       "      <th>Number of Children</th>\n",
       "    </tr>\n",
       "    <tr>\n",
       "      <th>Web ID</th>\n",
       "      <th></th>\n",
       "      <th></th>\n",
       "      <th></th>\n",
       "      <th></th>\n",
       "    </tr>\n",
       "  </thead>\n",
       "  <tbody>\n",
       "    <tr>\n",
       "      <th>48115</th>\n",
       "      <td>2018</td>\n",
       "      <td>0.0</td>\n",
       "      <td>0.0</td>\n",
       "      <td>0.0</td>\n",
       "    </tr>\n",
       "    <tr>\n",
       "      <th>48089</th>\n",
       "      <td>2018</td>\n",
       "      <td>1.0</td>\n",
       "      <td>1.0</td>\n",
       "      <td>1.0</td>\n",
       "    </tr>\n",
       "    <tr>\n",
       "      <th>48090</th>\n",
       "      <td>2018</td>\n",
       "      <td>0.0</td>\n",
       "      <td>0.0</td>\n",
       "      <td>0.0</td>\n",
       "    </tr>\n",
       "    <tr>\n",
       "      <th>48087</th>\n",
       "      <td>2018</td>\n",
       "      <td>0.0</td>\n",
       "      <td>0.0</td>\n",
       "      <td>0.0</td>\n",
       "    </tr>\n",
       "    <tr>\n",
       "      <th>48088</th>\n",
       "      <td>2018</td>\n",
       "      <td>1.0</td>\n",
       "      <td>0.0</td>\n",
       "      <td>0.0</td>\n",
       "    </tr>\n",
       "  </tbody>\n",
       "</table>\n",
       "</div>"
      ],
      "text/plain": [
       "        Reported Year  Number of Males  Number of Females  Number of Children\n",
       "Web ID                                                                       \n",
       "48115            2018              0.0                0.0                 0.0\n",
       "48089            2018              1.0                1.0                 1.0\n",
       "48090            2018              0.0                0.0                 0.0\n",
       "48087            2018              0.0                0.0                 0.0\n",
       "48088            2018              1.0                0.0                 0.0"
      ]
     },
     "execution_count": 19,
     "metadata": {},
     "output_type": "execute_result"
    }
   ],
   "source": [
    "df4 = pd.DataFrame()\n",
    "df4['Reported Year']= df['Reported Year']\n",
    "df4['Number of Males']= df['Number of Males']\n",
    "df4['Number of Females']= df['Number of Females']\n",
    "df4['Number of Children'] = df['Number of Children']\n",
    "df4 = df4[df4['Reported Year'] != 2019]\n",
    "df4 = df4[df4['Reported Year'] != 2014]\n",
    "df4.head(5)"
   ]
  },
  {
   "cell_type": "code",
   "execution_count": 20,
   "metadata": {},
   "outputs": [
    {
     "data": {
      "text/html": [
       "<div>\n",
       "<style scoped>\n",
       "    .dataframe tbody tr th:only-of-type {\n",
       "        vertical-align: middle;\n",
       "    }\n",
       "\n",
       "    .dataframe tbody tr th {\n",
       "        vertical-align: top;\n",
       "    }\n",
       "\n",
       "    .dataframe thead th {\n",
       "        text-align: right;\n",
       "    }\n",
       "</style>\n",
       "<table border=\"1\" class=\"dataframe\">\n",
       "  <thead>\n",
       "    <tr style=\"text-align: right;\">\n",
       "      <th></th>\n",
       "      <th>Number of Males</th>\n",
       "      <th>Number of Females</th>\n",
       "      <th>Number of Children</th>\n",
       "    </tr>\n",
       "    <tr>\n",
       "      <th>Reported Year</th>\n",
       "      <th></th>\n",
       "      <th></th>\n",
       "      <th></th>\n",
       "    </tr>\n",
       "  </thead>\n",
       "  <tbody>\n",
       "    <tr>\n",
       "      <th>2015</th>\n",
       "      <td>797.0</td>\n",
       "      <td>216.0</td>\n",
       "      <td>291.0</td>\n",
       "    </tr>\n",
       "    <tr>\n",
       "      <th>2016</th>\n",
       "      <td>890.0</td>\n",
       "      <td>282.0</td>\n",
       "      <td>268.0</td>\n",
       "    </tr>\n",
       "    <tr>\n",
       "      <th>2017</th>\n",
       "      <td>1614.0</td>\n",
       "      <td>546.0</td>\n",
       "      <td>308.0</td>\n",
       "    </tr>\n",
       "    <tr>\n",
       "      <th>2018</th>\n",
       "      <td>1715.0</td>\n",
       "      <td>655.0</td>\n",
       "      <td>397.0</td>\n",
       "    </tr>\n",
       "  </tbody>\n",
       "</table>\n",
       "</div>"
      ],
      "text/plain": [
       "               Number of Males  Number of Females  Number of Children\n",
       "Reported Year                                                        \n",
       "2015                     797.0              216.0               291.0\n",
       "2016                     890.0              282.0               268.0\n",
       "2017                    1614.0              546.0               308.0\n",
       "2018                    1715.0              655.0               397.0"
      ]
     },
     "execution_count": 20,
     "metadata": {},
     "output_type": "execute_result"
    }
   ],
   "source": [
    "df5 = df4.groupby('Reported Year').sum()\n",
    "df5"
   ]
  },
  {
   "cell_type": "code",
   "execution_count": 21,
   "metadata": {},
   "outputs": [
    {
     "data": {
      "image/png": "[encoded data removed]",
      "text/plain": [
       "<Figure size 864x432 with 3 Axes>"
      ]
     },
     "metadata": {},
     "output_type": "display_data"
    }
   ],
   "source": [
    "plt.figure(figsize=(12, 6))\n",
    "sns.set(style=\"darkgrid\")\n",
    "plt.margins(x=0.0, y=0.1, tight=True)\n",
    "\n",
    "plt.subplot(1, 3, 1)\n",
    "plt.plot(df5['Number of Males'], c='blue', linewidth=3)\n",
    "plt.ylim((200,1750))\n",
    "plt.xlabel('Year')\n",
    "plt.ylabel('Number of Dead & Missing')\n",
    "plt.title('Number of Dead & Missing Males')\n",
    "\n",
    "plt.subplot(1, 3, 2)\n",
    "plt.plot(df5['Number of Females'], c='green', linewidth=3)\n",
    "plt.ylim((200,1750))\n",
    "plt.xlabel('Year')\n",
    "plt.ylabel('Number of Dead & Missing')\n",
    "plt.title('Number of Dead & Missing Females')\n",
    "\n",
    "plt.subplot(1, 3, 3)\n",
    "plt.plot(df5['Number of Children'], c='red', linewidth=3)\n",
    "plt.ylim((200,1750))\n",
    "plt.xlabel('Year')\n",
    "plt.ylabel('Number of Dead & Missing')\n",
    "plt.title('Number of Dead & Missing Children')\n",
    "\n",
    "plt.tight_layout()\n",
    "plt.show()"
   ]
  },
  {
   "cell_type": "code",
   "execution_count": 22,
   "metadata": {},
   "outputs": [],
   "source": [
    "## Plot4: Comparison between the number of survivors and the number of Dead & Missing\n",
    "### This plot compares the total number of dead & missing immigrants to the total number of survivors from 2015-2018.\n",
    "### In general, the number of survivors exceeds the number of dead & missing immigrants."
   ]
  },
  {
   "cell_type": "code",
   "execution_count": 30,
   "metadata": {
    "scrolled": true
   },
   "outputs": [
    {
     "data": {
      "text/html": [
       "<div>\n",
       "<style scoped>\n",
       "    .dataframe tbody tr th:only-of-type {\n",
       "        vertical-align: middle;\n",
       "    }\n",
       "\n",
       "    .dataframe tbody tr th {\n",
       "        vertical-align: top;\n",
       "    }\n",
       "\n",
       "    .dataframe thead th {\n",
       "        text-align: right;\n",
       "    }\n",
       "</style>\n",
       "<table border=\"1\" class=\"dataframe\">\n",
       "  <thead>\n",
       "    <tr style=\"text-align: right;\">\n",
       "      <th></th>\n",
       "      <th>Reported Year</th>\n",
       "      <th>Total Dead and Missing</th>\n",
       "      <th>Total Number of Survivors</th>\n",
       "    </tr>\n",
       "    <tr>\n",
       "      <th>Web ID</th>\n",
       "      <th></th>\n",
       "      <th></th>\n",
       "      <th></th>\n",
       "    </tr>\n",
       "  </thead>\n",
       "  <tbody>\n",
       "    <tr>\n",
       "      <th>48115</th>\n",
       "      <td>2018</td>\n",
       "      <td>1</td>\n",
       "      <td>0.0</td>\n",
       "    </tr>\n",
       "    <tr>\n",
       "      <th>48089</th>\n",
       "      <td>2018</td>\n",
       "      <td>2</td>\n",
       "      <td>9.0</td>\n",
       "    </tr>\n",
       "    <tr>\n",
       "      <th>48090</th>\n",
       "      <td>2018</td>\n",
       "      <td>14</td>\n",
       "      <td>12.0</td>\n",
       "    </tr>\n",
       "    <tr>\n",
       "      <th>48087</th>\n",
       "      <td>2018</td>\n",
       "      <td>7</td>\n",
       "      <td>1.0</td>\n",
       "    </tr>\n",
       "    <tr>\n",
       "      <th>48088</th>\n",
       "      <td>2018</td>\n",
       "      <td>1</td>\n",
       "      <td>0.0</td>\n",
       "    </tr>\n",
       "  </tbody>\n",
       "</table>\n",
       "</div>"
      ],
      "text/plain": [
       "        Reported Year  Total Dead and Missing  Total Number of Survivors\n",
       "Web ID                                                                  \n",
       "48115            2018                       1                        0.0\n",
       "48089            2018                       2                        9.0\n",
       "48090            2018                      14                       12.0\n",
       "48087            2018                       7                        1.0\n",
       "48088            2018                       1                        0.0"
      ]
     },
     "execution_count": 30,
     "metadata": {},
     "output_type": "execute_result"
    }
   ],
   "source": [
    "df6= pd.DataFrame()\n",
    "df6['Reported Year']= df['Reported Year']\n",
    "df6['Total Dead and Missing']= df['Total Dead and Missing']\n",
    "df6['Total Number of Survivors']= df['Number of Survivors']\n",
    "df6 = df6[df6['Reported Year'] != 2019]\n",
    "df6 = df6[df6['Reported Year'] != 2014]\n",
    "df6.head()"
   ]
  },
  {
   "cell_type": "code",
   "execution_count": 42,
   "metadata": {},
   "outputs": [
    {
     "data": {
      "text/html": [
       "<div>\n",
       "<style scoped>\n",
       "    .dataframe tbody tr th:only-of-type {\n",
       "        vertical-align: middle;\n",
       "    }\n",
       "\n",
       "    .dataframe tbody tr th {\n",
       "        vertical-align: top;\n",
       "    }\n",
       "\n",
       "    .dataframe thead th {\n",
       "        text-align: right;\n",
       "    }\n",
       "</style>\n",
       "<table border=\"1\" class=\"dataframe\">\n",
       "  <thead>\n",
       "    <tr style=\"text-align: right;\">\n",
       "      <th></th>\n",
       "      <th>Total Dead and Missing</th>\n",
       "      <th>Total Number of Survivors</th>\n",
       "    </tr>\n",
       "    <tr>\n",
       "      <th>Reported Year</th>\n",
       "      <th></th>\n",
       "      <th></th>\n",
       "    </tr>\n",
       "  </thead>\n",
       "  <tbody>\n",
       "    <tr>\n",
       "      <th>2015</th>\n",
       "      <td>6584</td>\n",
       "      <td>8115.0</td>\n",
       "    </tr>\n",
       "    <tr>\n",
       "      <th>2016</th>\n",
       "      <td>8070</td>\n",
       "      <td>17407.0</td>\n",
       "    </tr>\n",
       "    <tr>\n",
       "      <th>2017</th>\n",
       "      <td>6279</td>\n",
       "      <td>6424.0</td>\n",
       "    </tr>\n",
       "    <tr>\n",
       "      <th>2018</th>\n",
       "      <td>4734</td>\n",
       "      <td>9167.0</td>\n",
       "    </tr>\n",
       "  </tbody>\n",
       "</table>\n",
       "</div>"
      ],
      "text/plain": [
       "               Total Dead and Missing  Total Number of Survivors\n",
       "Reported Year                                                   \n",
       "2015                             6584                     8115.0\n",
       "2016                             8070                    17407.0\n",
       "2017                             6279                     6424.0\n",
       "2018                             4734                     9167.0"
      ]
     },
     "execution_count": 42,
     "metadata": {},
     "output_type": "execute_result"
    }
   ],
   "source": [
    "df7 =df6.groupby('Reported Year').sum()\n",
    "df7"
   ]
  },
  {
   "cell_type": "code",
   "execution_count": 32,
   "metadata": {},
   "outputs": [
    {
     "data": {
      "image/png": "[encoded data removed]",
      "text/plain": [
       "<Figure size 720x432 with 1 Axes>"
      ]
     },
     "metadata": {},
     "output_type": "display_data"
    }
   ],
   "source": [
    "sns.set(style='whitegrid')\n",
    "\n",
    "df7.plot(kind='bar', figsize=(10,6))\n",
    "plt.ylabel('Number of Dead & Missing')\n",
    "plt.title('Dead & Missing vs Survivors from 2015-2018')\n",
    "plt.margins(x=0.0, y=0.1, tight=True)\n",
    "plt.tight_layout()\n",
    "\n",
    "plt.show()"
   ]
  }
 ],
 "metadata": {
  "kernelspec": {
   "display_name": "Python 3",
   "language": "python",
   "name": "python3"
  },
  "language_info": {
   "codemirror_mode": {
    "name": "ipython",
    "version": 3
   },
   "file_extension": ".py",
   "mimetype": "text/x-python",
   "name": "python",
   "nbconvert_exporter": "python",
   "pygments_lexer": "ipython3",
   "version": "3.7.1"
  }
 },
 "nbformat": 4,
 "nbformat_minor": 2
}
